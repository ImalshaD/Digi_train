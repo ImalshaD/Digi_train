{
  "nbformat": 4,
  "nbformat_minor": 0,
  "metadata": {
    "colab": {
      "provenance": [],
      "gpuType": "T4"
    },
    "kernelspec": {
      "name": "python3",
      "display_name": "Python 3"
    },
    "language_info": {
      "name": "python"
    },
    "accelerator": "GPU"
  },
  "cells": [
    {
      "cell_type": "code",
      "execution_count": null,
      "metadata": {
        "id": "PBUX5KUdCilP"
      },
      "outputs": [],
      "source": [
        "import tensorflow as tf\n",
        "from tensorflow import keras\n",
        "from PIL import Image\n",
        "import numpy as np\n",
        "from sklearn.model_selection import train_test_split\n",
        "import os\n",
        "import pickle"
      ]
    },
    {
      "cell_type": "code",
      "source": [
        "from google.colab import drive\n",
        "drive.mount('/content/gdrive')"
      ],
      "metadata": {
        "colab": {
          "base_uri": "https://localhost:8080/"
        },
        "id": "oTcnNcx3CpIN",
        "outputId": "b15d929b-36ce-4310-d943-e4692ca085fa"
      },
      "execution_count": null,
      "outputs": [
        {
          "output_type": "stream",
          "name": "stdout",
          "text": [
            "Mounted at /content/gdrive\n"
          ]
        }
      ]
    },
    {
      "cell_type": "code",
      "source": [
        "import gc"
      ],
      "metadata": {
        "id": "C1zLIXDZeA0P"
      },
      "execution_count": null,
      "outputs": []
    },
    {
      "cell_type": "code",
      "source": [
        "def create_autoencoder(input_shape=(2048, 1536, 1)):\n",
        "    # Encoder\n",
        "    input_img = tf.keras.layers.Input(shape=input_shape)\n",
        "\n",
        "    x = tf.keras.layers.Conv2D(64, (3, 3), activation='relu', padding='same')(input_img)\n",
        "    x = tf.keras.layers.BatchNormalization()(x)\n",
        "    x = tf.keras.layers.MaxPooling2D((2, 2), padding='same')(x)\n",
        "\n",
        "    x = tf.keras.layers.Conv2D(128, (3, 3), activation='relu', padding='same')(x)\n",
        "    x = tf.keras.layers.BatchNormalization()(x)\n",
        "    x = tf.keras.layers.MaxPooling2D((2, 2), padding='same')(x)\n",
        "\n",
        "    x = tf.keras.layers.Conv2D(256, (3, 3), activation='relu', padding='same')(x)\n",
        "    x = tf.keras.layers.BatchNormalization()(x)\n",
        "    encoded = tf.keras.layers.MaxPooling2D((2, 2), padding='same')(x)\n",
        "\n",
        "    # Decoder\n",
        "    x = tf.keras.layers.Conv2D(256, (3, 3), activation='relu', padding='same')(encoded)\n",
        "    x = tf.keras.layers.BatchNormalization()(x)\n",
        "    x = tf.keras.layers.UpSampling2D((2, 2))(x)\n",
        "\n",
        "    x = tf.keras.layers.Conv2D(128, (3, 3), activation='relu', padding='same')(x)\n",
        "    x = tf.keras.layers.BatchNormalization()(x)\n",
        "    x = tf.keras.layers.UpSampling2D((2, 2))(x)\n",
        "\n",
        "    x = tf.keras.layers.Conv2D(64, (3, 3), activation='relu', padding='same')(x)\n",
        "    x = tf.keras.layers.BatchNormalization()(x)\n",
        "    x = tf.keras.layers.UpSampling2D((2, 2))(x)\n",
        "\n",
        "    decoded = tf.keras.layers.Conv2D(1, (3, 3), activation='linear', padding='same')(x)\n",
        "\n",
        "    # Create the autoencoder model\n",
        "    autoencoder = tf.keras.models.Model(input_img, decoded)\n",
        "\n",
        "    # Compile the model\n",
        "    autoencoder.compile(optimizer='adam', loss='mse')  # Use 'mse' for grayscale images\n",
        "\n",
        "    return autoencoder"
      ],
      "metadata": {
        "id": "lQoyTwqpCq8i"
      },
      "execution_count": null,
      "outputs": []
    },
    {
      "cell_type": "code",
      "source": [
        "# AutoEncoder without sigmoid and"
      ],
      "metadata": {
        "id": "aNG5zl74o4Sq"
      },
      "execution_count": null,
      "outputs": []
    },
    {
      "cell_type": "code",
      "source": [
        "with open('/content/gdrive/MyDrive/AutoEncoder/pickleData/data_x_4.pkl', 'rb') as file:\n",
        "    # Load the data from the file\n",
        "    train_x = pickle.load(file)\n",
        "with open('/content/gdrive/MyDrive/AutoEncoder/pickleData/data_y_4.pkl', 'rb') as file:\n",
        "    # Load the data from the file\n",
        "    train_y = pickle.load(file)"
      ],
      "metadata": {
        "id": "CKN_gV9kCx_A"
      },
      "execution_count": null,
      "outputs": []
    },
    {
      "cell_type": "code",
      "source": [
        "with open('/content/gdrive/MyDrive/AutoEncoder/pickleData/data_x_5.pkl', 'rb') as file:\n",
        "    # Load the data from the file\n",
        "    val_x = pickle.load(file)"
      ],
      "metadata": {
        "id": "VlLUT6YfC4EX"
      },
      "execution_count": null,
      "outputs": []
    },
    {
      "cell_type": "code",
      "source": [
        "with open('/content/gdrive/MyDrive/AutoEncoder/pickleData/data_y_5.pkl', 'rb') as file:\n",
        "    # Load the data from the file\n",
        "    val_y = pickle.load(file)"
      ],
      "metadata": {
        "id": "KIIdwwWUC5vD"
      },
      "execution_count": null,
      "outputs": []
    },
    {
      "cell_type": "code",
      "source": [
        "val_x.shape"
      ],
      "metadata": {
        "colab": {
          "base_uri": "https://localhost:8080/"
        },
        "id": "NHrb9fikD7RJ",
        "outputId": "ed75ab54-909f-488f-fec6-027d2a3287ac"
      },
      "execution_count": null,
      "outputs": [
        {
          "output_type": "execute_result",
          "data": {
            "text/plain": [
              "(360, 2048, 1536)"
            ]
          },
          "metadata": {},
          "execution_count": 7
        }
      ]
    },
    {
      "cell_type": "code",
      "source": [
        "autoencoder=create_autoencoder()\n",
        "autoencoder.fit(train_x,train_y,epochs=5,batch_size=1,validation_data=(val_x,val_y))"
      ],
      "metadata": {
        "colab": {
          "base_uri": "https://localhost:8080/"
        },
        "id": "mb8ivKRnC-h7",
        "outputId": "55b31b80-ba73-4376-8766-df6f91af5ada"
      },
      "execution_count": null,
      "outputs": [
        {
          "output_type": "stream",
          "name": "stdout",
          "text": [
            "Epoch 1/5\n",
            "180/180 [==============================] - 160s 741ms/step - loss: 3200.3723 - val_loss: 15940.0820\n",
            "Epoch 2/5\n",
            "180/180 [==============================] - 131s 730ms/step - loss: 2837.5208 - val_loss: 2677.7422\n",
            "Epoch 3/5\n",
            "180/180 [==============================] - 119s 661ms/step - loss: 2667.4065 - val_loss: 2858.9321\n",
            "Epoch 4/5\n",
            "180/180 [==============================] - 131s 728ms/step - loss: 2590.6858 - val_loss: 2534.7925\n",
            "Epoch 5/5\n",
            "180/180 [==============================] - 119s 659ms/step - loss: 2498.5237 - val_loss: 2558.6597\n"
          ]
        },
        {
          "output_type": "execute_result",
          "data": {
            "text/plain": [
              "<keras.src.callbacks.History at 0x7831a098ad40>"
            ]
          },
          "metadata": {},
          "execution_count": 7
        }
      ]
    },
    {
      "cell_type": "code",
      "source": [
        "model_path = '/content/gdrive/MyDrive/AutoEncoder/auenc1.keras'\n",
        "autoencoder = keras.models.load_model(model_path)"
      ],
      "metadata": {
        "id": "y2f7qbCQlMhJ"
      },
      "execution_count": null,
      "outputs": []
    },
    {
      "cell_type": "code",
      "source": [
        "autoencoder.fit(train_x,train_y,epochs=5,batch_size=1,validation_data=(val_x,val_y))"
      ],
      "metadata": {
        "colab": {
          "base_uri": "https://localhost:8080/"
        },
        "id": "Y4xdvtoAlQCx",
        "outputId": "53bc38ac-de5b-47c5-cafd-c13e909a4b60"
      },
      "execution_count": null,
      "outputs": [
        {
          "output_type": "stream",
          "name": "stdout",
          "text": [
            "Epoch 1/5\n",
            "180/180 [==============================] - 147s 669ms/step - loss: 2154.8018 - val_loss: 2466.7732\n",
            "Epoch 2/5\n",
            "180/180 [==============================] - 118s 655ms/step - loss: 2109.6350 - val_loss: 2218.3870\n",
            "Epoch 3/5\n",
            "180/180 [==============================] - 117s 652ms/step - loss: 2045.4142 - val_loss: 2216.6284\n",
            "Epoch 4/5\n",
            "180/180 [==============================] - 129s 721ms/step - loss: 2001.1464 - val_loss: 2350.7417\n",
            "Epoch 5/5\n",
            "180/180 [==============================] - 116s 645ms/step - loss: 1953.3574 - val_loss: 2378.9709\n"
          ]
        },
        {
          "output_type": "execute_result",
          "data": {
            "text/plain": [
              "<keras.src.callbacks.History at 0x782e0c108940>"
            ]
          },
          "metadata": {},
          "execution_count": 7
        }
      ]
    },
    {
      "cell_type": "code",
      "source": [
        "autoencoder.save('/content/gdrive/MyDrive/AutoEncoder/auenc1.keras')"
      ],
      "metadata": {
        "id": "ZUrClOTNXQEd"
      },
      "execution_count": null,
      "outputs": []
    },
    {
      "cell_type": "code",
      "source": [
        "for i in range(5,20):\n",
        "  with open('/content/gdrive/MyDrive/AutoEncoder/pickleData/data_x_%i.pkl'%(i), 'rb') as file:\n",
        "    # Load the data from the file\n",
        "    train_x = pickle.load(file)\n",
        "  with open('/content/gdrive/MyDrive/AutoEncoder/pickleData/data_y_%i.pkl'%(i), 'rb') as file:\n",
        "      # Load the data from the file\n",
        "      train_y = pickle.load(file)\n",
        "  with open('/content/gdrive/MyDrive/AutoEncoder/pickleData/data_x_%i.pkl'%(i+1), 'rb') as file:\n",
        "    # Load the data from the file\n",
        "    val_x = pickle.load(file)\n",
        "  with open('/content/gdrive/MyDrive/AutoEncoder/pickleData/data_y_%i.pkl'%(i+1), 'rb') as file:\n",
        "    # Load the data from the file\n",
        "    val_y = pickle.load(file)\n",
        "  autoencoder.fit(train_x,train_y,epochs=5,batch_size=1,validation_data=(val_x,val_y))\n",
        "  autoencoder.save('/content/gdrive/MyDrive/AutoEncoder/models/2048Conv/auenc2048_%i.keras'%(i))\n",
        "  del train_x,train_y,val_x,val_y\n",
        "  gc.collect()\n",
        "\n"
      ],
      "metadata": {
        "colab": {
          "base_uri": "https://localhost:8080/"
        },
        "id": "UL9AYf3FcWLF",
        "outputId": "0b209536-0c4e-4a22-c98b-bdce9e0d439d"
      },
      "execution_count": null,
      "outputs": [
        {
          "output_type": "stream",
          "name": "stdout",
          "text": [
            "Epoch 1/5\n",
            "180/180 [==============================] - 155s 691ms/step - loss: 1910.5988 - val_loss: 2227.7537\n",
            "Epoch 2/5\n",
            "180/180 [==============================] - 132s 737ms/step - loss: 1813.2471 - val_loss: 2096.5220\n",
            "Epoch 3/5\n",
            "180/180 [==============================] - 133s 738ms/step - loss: 1791.9861 - val_loss: 2213.0571\n",
            "Epoch 4/5\n",
            "180/180 [==============================] - 121s 672ms/step - loss: 1755.4449 - val_loss: 2166.2803\n",
            "Epoch 5/5\n",
            "180/180 [==============================] - 121s 671ms/step - loss: 1748.1805 - val_loss: 2075.6392\n",
            "Epoch 1/5\n",
            "180/180 [==============================] - 136s 757ms/step - loss: 1818.0737 - val_loss: 2291.4475\n",
            "Epoch 2/5\n",
            "180/180 [==============================] - 133s 738ms/step - loss: 1722.7566 - val_loss: 2315.8574\n",
            "Epoch 3/5\n",
            "180/180 [==============================] - 133s 738ms/step - loss: 1716.6879 - val_loss: 2433.5620\n",
            "Epoch 4/5\n",
            "180/180 [==============================] - 121s 671ms/step - loss: 1694.8490 - val_loss: 2263.7539\n",
            "Epoch 5/5\n",
            "180/180 [==============================] - 132s 737ms/step - loss: 1643.3450 - val_loss: 2511.6526\n",
            "Epoch 1/5\n",
            "180/180 [==============================] - 136s 756ms/step - loss: 1871.5078 - val_loss: 2968.5190\n",
            "Epoch 2/5\n",
            "180/180 [==============================] - 121s 671ms/step - loss: 1778.1777 - val_loss: 2409.3386\n",
            "Epoch 3/5\n",
            "180/180 [==============================] - 121s 671ms/step - loss: 1732.4083 - val_loss: 2397.7864\n",
            "Epoch 4/5\n",
            "180/180 [==============================] - 120s 669ms/step - loss: 1767.6781 - val_loss: 2963.6519\n",
            "Epoch 5/5\n",
            "180/180 [==============================] - 132s 736ms/step - loss: 1678.9941 - val_loss: 3145.2251\n",
            "Epoch 1/5\n",
            "180/180 [==============================] - 124s 690ms/step - loss: 1886.9790 - val_loss: 2009.5260\n",
            "Epoch 2/5\n",
            "180/180 [==============================] - 121s 672ms/step - loss: 1794.3446 - val_loss: 1916.8915\n",
            "Epoch 3/5\n",
            "180/180 [==============================] - 132s 736ms/step - loss: 1758.5205 - val_loss: 2252.3479\n",
            "Epoch 4/5\n",
            "180/180 [==============================] - 133s 737ms/step - loss: 1686.4797 - val_loss: 2014.9954\n",
            "Epoch 5/5\n",
            "180/180 [==============================] - 133s 737ms/step - loss: 1646.3064 - val_loss: 2202.6675\n",
            "Epoch 1/5\n",
            "180/180 [==============================] - 124s 688ms/step - loss: 1571.6082 - val_loss: 2680.0557\n",
            "Epoch 2/5\n",
            "180/180 [==============================] - 121s 671ms/step - loss: 1458.0677 - val_loss: 2325.9697\n",
            "Epoch 3/5\n",
            "180/180 [==============================] - 121s 671ms/step - loss: 1421.2845 - val_loss: 2181.6729\n",
            "Epoch 4/5\n",
            "180/180 [==============================] - 121s 671ms/step - loss: 1379.5426 - val_loss: 2256.1433\n",
            "Epoch 5/5\n",
            "180/180 [==============================] - 120s 670ms/step - loss: 1393.4668 - val_loss: 2237.5247\n",
            "Epoch 1/5\n",
            "180/180 [==============================] - 125s 693ms/step - loss: 1729.3857 - val_loss: 2284.9912\n",
            "Epoch 2/5\n",
            "180/180 [==============================] - 132s 737ms/step - loss: 1666.3112 - val_loss: 2307.7556\n",
            "Epoch 3/5\n",
            "180/180 [==============================] - 121s 673ms/step - loss: 1575.0629 - val_loss: 2232.6218\n",
            "Epoch 4/5\n",
            "180/180 [==============================] - 121s 672ms/step - loss: 1548.0149 - val_loss: 2343.6096\n",
            "Epoch 5/5\n",
            "180/180 [==============================] - 121s 672ms/step - loss: 1534.6875 - val_loss: 2261.0334\n",
            "Epoch 1/5\n",
            "180/180 [==============================] - 136s 756ms/step - loss: 1755.4984 - val_loss: 2293.1541\n",
            "Epoch 2/5\n",
            "180/180 [==============================] - 133s 739ms/step - loss: 1694.2288 - val_loss: 2560.1494\n",
            "Epoch 3/5\n",
            "180/180 [==============================] - 121s 673ms/step - loss: 1643.7047 - val_loss: 2652.7976\n",
            "Epoch 4/5\n",
            "180/180 [==============================] - 121s 671ms/step - loss: 1605.8490 - val_loss: 2509.0967\n",
            "Epoch 5/5\n",
            "180/180 [==============================] - 133s 738ms/step - loss: 1556.6212 - val_loss: 2515.3584\n",
            "Epoch 1/5\n",
            "180/180 [==============================] - 124s 691ms/step - loss: 1649.3335 - val_loss: 2106.1511\n",
            "Epoch 2/5\n",
            "180/180 [==============================] - 121s 671ms/step - loss: 1569.7823 - val_loss: 2260.1111\n",
            "Epoch 3/5\n",
            "180/180 [==============================] - 120s 670ms/step - loss: 1490.3887 - val_loss: 2289.5659\n",
            "Epoch 4/5\n",
            "180/180 [==============================] - 121s 671ms/step - loss: 1509.3877 - val_loss: 2354.1890\n",
            "Epoch 5/5\n",
            "180/180 [==============================] - 120s 670ms/step - loss: 1494.8499 - val_loss: 2261.9258\n",
            "Epoch 1/5\n",
            "180/180 [==============================] - 124s 692ms/step - loss: 1641.6448 - val_loss: 2239.8826\n",
            "Epoch 2/5\n",
            "180/180 [==============================] - 121s 671ms/step - loss: 1575.2448 - val_loss: 2293.5476\n",
            "Epoch 3/5\n",
            "180/180 [==============================] - 132s 736ms/step - loss: 1533.5889 - val_loss: 2131.4646\n",
            "Epoch 4/5\n",
            "180/180 [==============================] - 121s 671ms/step - loss: 1476.3861 - val_loss: 2204.5969\n",
            "Epoch 5/5\n",
            "180/180 [==============================] - 120s 670ms/step - loss: 1469.5770 - val_loss: 2566.7729\n",
            "Epoch 1/5\n",
            "180/180 [==============================] - 123s 686ms/step - loss: 1555.9794 - val_loss: 2150.7275\n",
            "Epoch 2/5\n",
            "180/180 [==============================] - 120s 670ms/step - loss: 1458.5732 - val_loss: 2223.1489\n",
            "Epoch 3/5\n",
            "180/180 [==============================] - 132s 735ms/step - loss: 1448.1847 - val_loss: 2184.0100\n",
            "Epoch 4/5\n",
            "180/180 [==============================] - 132s 736ms/step - loss: 1401.2421 - val_loss: 2313.4336\n",
            "Epoch 5/5\n",
            "180/180 [==============================] - 121s 670ms/step - loss: 1369.9468 - val_loss: 2188.1714\n",
            "Epoch 1/5\n",
            "180/180 [==============================] - 135s 754ms/step - loss: 1648.5513 - val_loss: 2289.6855\n",
            "Epoch 2/5\n",
            "180/180 [==============================] - 133s 737ms/step - loss: 1561.1295 - val_loss: 2400.4929\n",
            "Epoch 3/5\n",
            "180/180 [==============================] - 133s 738ms/step - loss: 1463.3499 - val_loss: 2554.0261\n",
            "Epoch 4/5\n",
            "180/180 [==============================] - 121s 672ms/step - loss: 1405.7557 - val_loss: 2426.7983\n",
            "Epoch 5/5\n",
            "180/180 [==============================] - 132s 736ms/step - loss: 1383.9218 - val_loss: 2524.7642\n",
            "Epoch 1/5\n",
            "180/180 [==============================] - 136s 754ms/step - loss: 1697.7670 - val_loss: 2128.0444\n",
            "Epoch 2/5\n",
            "180/180 [==============================] - 133s 737ms/step - loss: 1595.6143 - val_loss: 2237.1782\n",
            "Epoch 3/5\n",
            "180/180 [==============================] - 121s 672ms/step - loss: 1496.0168 - val_loss: 2608.4053\n",
            "Epoch 4/5\n",
            "180/180 [==============================] - 121s 671ms/step - loss: 1486.5173 - val_loss: 2315.1121\n",
            "Epoch 5/5\n",
            "180/180 [==============================] - 132s 737ms/step - loss: 1444.8676 - val_loss: 2440.0989\n",
            "Epoch 1/5\n",
            "180/180 [==============================] - 136s 754ms/step - loss: 1714.9589 - val_loss: 2086.7737\n",
            "Epoch 2/5\n",
            "180/180 [==============================] - 121s 671ms/step - loss: 1609.9609 - val_loss: 2188.4209\n",
            "Epoch 3/5\n",
            "180/180 [==============================] - 132s 736ms/step - loss: 1585.0531 - val_loss: 2112.0947\n",
            "Epoch 4/5\n",
            "180/180 [==============================] - 132s 737ms/step - loss: 1525.5653 - val_loss: 2209.6174\n",
            "Epoch 5/5\n",
            "180/180 [==============================] - 121s 672ms/step - loss: 1458.5092 - val_loss: 2343.6892\n",
            "Epoch 1/5\n",
            "180/180 [==============================] - 124s 690ms/step - loss: 1625.4329 - val_loss: 2308.3381\n",
            "Epoch 2/5\n",
            "180/180 [==============================] - 132s 736ms/step - loss: 1494.4230 - val_loss: 2088.3091\n",
            "Epoch 3/5\n",
            "180/180 [==============================] - 132s 737ms/step - loss: 1476.6823 - val_loss: 2347.8396\n",
            "Epoch 4/5\n",
            "180/180 [==============================] - 132s 737ms/step - loss: 1428.8916 - val_loss: 2374.7598\n",
            "Epoch 5/5\n",
            "180/180 [==============================] - 132s 737ms/step - loss: 1393.9824 - val_loss: 2428.0972\n",
            "Epoch 1/5\n",
            "180/180 [==============================] - 94s 520ms/step - loss: 1537.1522 - val_loss: 2044.6420\n",
            "Epoch 2/5\n",
            "180/180 [==============================] - 94s 522ms/step - loss: 1444.4507 - val_loss: 2142.6067\n",
            "Epoch 3/5\n",
            "180/180 [==============================] - 94s 523ms/step - loss: 1404.9452 - val_loss: 2061.6289\n",
            "Epoch 4/5\n",
            "180/180 [==============================] - 93s 517ms/step - loss: 1392.9231 - val_loss: 2039.4401\n",
            "Epoch 5/5\n",
            "180/180 [==============================] - 94s 522ms/step - loss: 1390.3854 - val_loss: 2054.3450\n"
          ]
        }
      ]
    }
  ]
}